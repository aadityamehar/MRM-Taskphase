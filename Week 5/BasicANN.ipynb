{
  "nbformat": 4,
  "nbformat_minor": 0,
  "metadata": {
    "colab": {
      "name": "Untitled1.ipynb",
      "provenance": [],
      "collapsed_sections": []
    },
    "kernelspec": {
      "name": "python3",
      "display_name": "Python 3"
    }
  },
  "cells": [
    {
      "cell_type": "code",
      "metadata": {
        "id": "P_sww72SjQS_"
      },
      "source": [
        "import pandas as pd\r\n",
        "import numpy as np\r\n",
        "import matplotlib.pyplot as plt\r\n",
        "import matplotlib.cm as cm "
      ],
      "execution_count": 6,
      "outputs": []
    },
    {
      "cell_type": "code",
      "metadata": {
        "colab": {
          "base_uri": "https://localhost:8080/"
        },
        "id": "-bYtQHn4tdeM",
        "outputId": "cae82b0f-513b-41ae-a353-955a5446f5db"
      },
      "source": [
        "from google.colab import drive\n",
        "drive.mount('/content/drive')"
      ],
      "execution_count": 7,
      "outputs": [
        {
          "output_type": "stream",
          "text": [
            "Drive already mounted at /content/drive; to attempt to forcibly remount, call drive.mount(\"/content/drive\", force_remount=True).\n"
          ],
          "name": "stdout"
        }
      ]
    },
    {
      "cell_type": "code",
      "metadata": {
        "id": "RGYElqT1jYUj"
      },
      "source": [
        "train = '/content/drive/MyDrive/Dataset/fashion-mnist_train.csv'\r\n",
        "test = '/content/drive/MyDrive/Dataset/fashion-mnist_test.csv'\r\n",
        "\r\n",
        "df_train = pd.read_csv(train)\r\n",
        "df_test = pd.read_csv(test)\r\n",
        "\r\n",
        "y_train_df = df_train[['label']]\r\n",
        "y_test_df = df_test[['label']]\r\n",
        "\r\n",
        "X_train_df = df_train.drop(['label'], inplace = False, axis = 1)\r\n",
        "X_test_df = df_test.drop(['label'], inplace = False, axis = 1)\r\n",
        "\r\n",
        "X_train = X_train_df.copy()\r\n",
        "X_train = X_train.values\r\n",
        "\r\n",
        "X_test = X_test_df.copy()\r\n",
        "X_test = X_test.values\r\n",
        "\r\n",
        "y_train = y_train_df.copy()\r\n",
        "y_train = y_train.values\r\n",
        "\r\n",
        "y_test = y_test_df.copy()\r\n",
        "y_test = y_test.values\r\n",
        "\r\n",
        "X_train = X_train/255\r\n",
        "X_test = X_test/255"
      ],
      "execution_count": 8,
      "outputs": []
    },
    {
      "cell_type": "code",
      "metadata": {
        "id": "tussnOrJjq6P"
      },
      "source": [
        "yint = np.zeros((60000, 10))\r\n",
        "for i in range(len(y_train)):\r\n",
        "    a = y_train[i]\r\n",
        "    yint[i][a] = 1    \r\n",
        "\r\n",
        "y_train = yint"
      ],
      "execution_count": 9,
      "outputs": []
    },
    {
      "cell_type": "code",
      "metadata": {
        "id": "HwNODZIrjzPi"
      },
      "source": [
        "def layers():\r\n",
        "    n_X = 784\r\n",
        "    n_h = 32\r\n",
        "    n_y = 10\r\n",
        "    \r\n",
        "    return (n_X, n_h, n_y)\r\n",
        "\r\n",
        "(n_X, n_h, n_y) = layers(X_train, y_train)"
      ],
      "execution_count": 10,
      "outputs": []
    },
    {
      "cell_type": "code",
      "metadata": {
        "id": "Skrxlvfwj2s_"
      },
      "source": [
        "def params_init(n_X, n_h, n_y):\r\n",
        "    W1 = np.random.randn(n_h, n_X) * 0.01\r\n",
        "    b1 = np.zeros((n_h, 1))\r\n",
        "    W2 = np.random.randn(n_y, n_h) * 0.01\r\n",
        "    b2 = np.zeros((n_y, 1))\r\n",
        "    \r\n",
        "    params = {'W1': W1, 'W2': W2, 'b1': b1, 'b2': b2}\r\n",
        "    return params"
      ],
      "execution_count": 50,
      "outputs": []
    },
    {
      "cell_type": "code",
      "metadata": {
        "id": "MoXgtrrmkAPG"
      },
      "source": [
        "def softmax(x):\r\n",
        "    exps = np.exp(x - x.max())\r\n",
        "    return exps / np.sum(exps, axis=0)\r\n",
        "\r\n",
        "def forwardprop(parameters, X):\r\n",
        "    W1 = parameters['W1']\r\n",
        "    b1 = parameters['b1']\r\n",
        "    W2 = parameters['W2']\r\n",
        "    b2 = parameters['b2']\r\n",
        "    \r\n",
        "    Z1 = np.dot(W1, X.T) + b1\r\n",
        "    A1 = np.tanh(Z1)\r\n",
        "    Z2 = W2.dot(A1) + b2\r\n",
        "    A2 = (softmax(Z2))\r\n",
        "    A2 = A2.T\r\n",
        "        \r\n",
        "    cache = {\"Z1\": Z1, \"A1\": A1, \"Z2\": Z2, \"A2\": A2}\r\n",
        "\r\n",
        "    return A2, cache"
      ],
      "execution_count": 51,
      "outputs": []
    },
    {
      "cell_type": "code",
      "metadata": {
        "id": "PQ4UeKlokIN5"
      },
      "source": [
        "def backprop(X, y, cache, parameters):\r\n",
        "    \r\n",
        "    Z1 = cache['Z1']\r\n",
        "    A1 = cache['A1']\r\n",
        "    Z2 = cache['Z2']\r\n",
        "    A2 = cache['A2']\r\n",
        "    \r\n",
        "    W1 = parameters['W1']\r\n",
        "    b1 = parameters['b1']\r\n",
        "    W2 = parameters['W2']\r\n",
        "    b2 = parameters['b2']\r\n",
        "    m = 60000\r\n",
        "    dZ2 = A2 - y  \r\n",
        "    dW2 = (1/m)*np.dot(A1, dZ2)\r\n",
        "    db2 = (1/m)*np.sum(dZ2, axis=0, keepdims= True)\r\n",
        "    a = np.dot(dZ2, W2)\r\n",
        "    dZ1 = ((1-np.power(A1, 2)))*(a.T)\r\n",
        "    dW1 = (1/m)*np.dot(dZ1, X)\r\n",
        "    db1 = (1/m)*np.sum(dZ1, axis=1, keepdims= True)\r\n",
        "    \r\n",
        "    derivatives = {'dW2': dW2, 'db2': db2, 'dW1': dW1, 'db1': db1}\r\n",
        "    \r\n",
        "    return derivatives"
      ],
      "execution_count": 52,
      "outputs": []
    },
    {
      "cell_type": "code",
      "metadata": {
        "id": "kT9-adAckPvy"
      },
      "source": [
        "def updates(derivatives, parameters, alpha = 1.2):\r\n",
        "    \r\n",
        "    W1 = parameters['W1']\r\n",
        "    b1 = parameters['b1']\r\n",
        "    W2 = parameters['W2']\r\n",
        "    b2 = parameters['b2']\r\n",
        "    \r\n",
        "    dW1 = derivatives['dW1']\r\n",
        "    db1 = derivatives['db1']\r\n",
        "    dW2 = derivatives['dW2']\r\n",
        "    db2 = derivatives['db2']\r\n",
        "    \r\n",
        "    \r\n",
        "    W1 -= alpha * dW1\r\n",
        "    b1 -= alpha * db1\r\n",
        "    W2 -= alpha * dW2.T\r\n",
        "    b2 -= alpha * db2.T\r\n",
        "    \r\n",
        "    parameters = {\"W1\": W1, \"b1\": b1, \"W2\": W2, \"b2\": b2}\r\n",
        "    \r\n",
        "    return parameters"
      ],
      "execution_count": 53,
      "outputs": []
    },
    {
      "cell_type": "code",
      "metadata": {
        "id": "c9yZ6kJjkSh9"
      },
      "source": [
        "def fit(X, Y, n_h = 32, epochs = 10):\r\n",
        "    \r\n",
        "    n_x = 784\r\n",
        "    n_y = 10\r\n",
        "    \r\n",
        "    parameters = params_init(n_x, n_h, n_y)\r\n",
        "    \r\n",
        "\r\n",
        "    for i in range(epochs):\r\n",
        "         \r\n",
        "        A2, cache = forwardprop(parameters, X)\r\n",
        " \r\n",
        "        grads = backprop(X, Y, cache, parameters)\r\n",
        " \r\n",
        "        parameters = updates(grads, parameters, alpha = 2)\r\n",
        "        \r\n",
        "        \r\n",
        "        if i%100 == 0:\r\n",
        "            print(i)\r\n",
        "\r\n",
        "    return parameters"
      ],
      "execution_count": 59,
      "outputs": []
    },
    {
      "cell_type": "code",
      "metadata": {
        "colab": {
          "base_uri": "https://localhost:8080/"
        },
        "id": "2L6qbREJkW5e",
        "outputId": "ec00bfb6-6c63-4af6-9cbe-13421c03de4e"
      },
      "source": [
        "parameters = fit(X_train, y_train, 32, epochs=10000)"
      ],
      "execution_count": 61,
      "outputs": [
        {
          "output_type": "stream",
          "text": [
            "0\n",
            "100\n",
            "200\n",
            "300\n",
            "400\n",
            "500\n",
            "600\n",
            "700\n",
            "800\n",
            "900\n",
            "1000\n",
            "1100\n",
            "1200\n",
            "1300\n",
            "1400\n",
            "1500\n",
            "1600\n",
            "1700\n",
            "1800\n",
            "1900\n",
            "2000\n",
            "2100\n",
            "2200\n",
            "2300\n",
            "2400\n",
            "2500\n",
            "2600\n",
            "2700\n",
            "2800\n",
            "2900\n",
            "3000\n",
            "3100\n",
            "3200\n",
            "3300\n",
            "3400\n",
            "3500\n",
            "3600\n",
            "3700\n",
            "3800\n",
            "3900\n",
            "4000\n",
            "4100\n",
            "4200\n",
            "4300\n",
            "4400\n",
            "4500\n",
            "4600\n",
            "4700\n",
            "4800\n",
            "4900\n",
            "5000\n",
            "5100\n",
            "5200\n",
            "5300\n",
            "5400\n",
            "5500\n",
            "5600\n",
            "5700\n",
            "5800\n",
            "5900\n",
            "6000\n",
            "6100\n",
            "6200\n",
            "6300\n",
            "6400\n",
            "6500\n",
            "6600\n",
            "6700\n",
            "6800\n",
            "6900\n",
            "7000\n",
            "7100\n",
            "7200\n",
            "7300\n",
            "7400\n",
            "7500\n",
            "7600\n",
            "7700\n",
            "7800\n",
            "7900\n",
            "8000\n",
            "8100\n",
            "8200\n",
            "8300\n",
            "8400\n",
            "8500\n",
            "8600\n",
            "8700\n",
            "8800\n",
            "8900\n",
            "9000\n",
            "9100\n",
            "9200\n",
            "9300\n",
            "9400\n",
            "9500\n",
            "9600\n",
            "9700\n",
            "9800\n",
            "9900\n"
          ],
          "name": "stdout"
        }
      ]
    },
    {
      "cell_type": "code",
      "metadata": {
        "colab": {
          "base_uri": "https://localhost:8080/"
        },
        "id": "DfahvI5bkaCe",
        "outputId": "50537695-99a4-41e8-9d3e-0132bfd19e09"
      },
      "source": [
        "a2, n = forwardprop(parameters, X_test)\r\n",
        "score = np.zeros((10000))\r\n",
        "for i in range(len(a2)):\r\n",
        "    for j in range(10):\r\n",
        "        if a2[i, j] == max(a2[i]):\r\n",
        "            score[i] = j\r\n",
        "sum = 0\r\n",
        "for i in range(len(y_test)):\r\n",
        "    if score[i] == y_test[i]:\r\n",
        "        sum += 1\r\n",
        "        \r\n",
        "print(sum/100)"
      ],
      "execution_count": 62,
      "outputs": [
        {
          "output_type": "stream",
          "text": [
            "84.67\n"
          ],
          "name": "stdout"
        }
      ]
    },
    {
      "cell_type": "code",
      "metadata": {
        "id": "DH_Sr_hc9PNH"
      },
      "source": [
        " "
      ],
      "execution_count": null,
      "outputs": []
    }
  ]
}