{
 "cells": [
  {
   "cell_type": "code",
   "execution_count": 158,
   "metadata": {},
   "outputs": [],
   "source": [
    "import numpy as np\n",
    "import pandas as pd\n",
    "from sklearn.preprocessing import StandardScaler\n",
    "from sklearn.metrics import silhouette_score\n",
    "from sklearn.cluster import KMeans\n",
    "import matplotlib.pyplot as plt\n",
    "import seaborn as sns\n",
    "import random"
   ]
  },
  {
   "cell_type": "code",
   "execution_count": 37,
   "metadata": {},
   "outputs": [],
   "source": [
    "source = 'Country-data.csv'\n",
    "df = pd.read_csv(source)\n",
    "scaler = StandardScaler()\n",
    "df\n",
    "X = df[['child_mort', 'exports', 'health', 'imports', 'income', 'inflation', 'life_expec', 'total_fer', 'gdpp']]\n",
    "Xs = scaler.fit_transform(X)"
   ]
  },
  {
   "cell_type": "code",
   "execution_count": 106,
   "metadata": {},
   "outputs": [],
   "source": [
    "Xs = Xs.T\n",
    "cov_mat = np.cov(Xs)"
   ]
  },
  {
   "cell_type": "code",
   "execution_count": 107,
   "metadata": {},
   "outputs": [
    {
     "data": {
      "text/plain": [
       "array([4.16057017, 1.55566165, 1.1774338 , 1.00077724, 0.66459866,\n",
       "       0.224928  , 0.06727787, 0.08884738, 0.1141221 ])"
      ]
     },
     "execution_count": 107,
     "metadata": {},
     "output_type": "execute_result"
    }
   ],
   "source": [
    "eigenval, eigenvec = np.linalg.eig(cov_mat)\n",
    "eigenval"
   ]
  },
  {
   "cell_type": "code",
   "execution_count": 108,
   "metadata": {},
   "outputs": [],
   "source": [
    "sum = np.sum(eigenval)"
   ]
  },
  {
   "cell_type": "code",
   "execution_count": 111,
   "metadata": {},
   "outputs": [
    {
     "name": "stdout",
     "output_type": "stream",
     "text": [
      "First 1 Pricipal Components explain 45.95173978609592% of the variance \n",
      "First 2 Pricipal Components explain 63.13336543771412% of the variance \n",
      "First 3 Pricipal Components explain 76.13762433466717% of the variance \n",
      "First 4 Pricipal Components explain 87.19078614023907% of the variance \n",
      "First 5 Pricipal Components explain 94.53099756439511% of the variance \n",
      "First 6 Pricipal Components explain 97.01523224082285% of the variance \n",
      "0.9701523224082286\n"
     ]
    }
   ],
   "source": [
    "sum1 = 0\n",
    "for i in range(6):\n",
    "    sum1 += eigenval[i]/sum\n",
    "    print(f'First {i+1} Pricipal Components explain {sum1*100}% of the variance ')\n",
    "print(sum1)\n",
    "Xs = Xs.T"
   ]
  },
  {
   "cell_type": "code",
   "execution_count": 112,
   "metadata": {},
   "outputs": [],
   "source": [
    "pc1 = Xs.dot(eigenvec[0])\n",
    "pc2 = Xs.dot(eigenvec[1])\n",
    "pc3 = Xs.dot(eigenvec[2])\n",
    "pc4 = Xs.dot(eigenvec[3])\n",
    "pc5 = Xs.dot(eigenvec[4])"
   ]
  },
  {
   "cell_type": "code",
   "execution_count": 113,
   "metadata": {},
   "outputs": [],
   "source": [
    "X_pca = pd.DataFrame(pc1, columns=['PC1'])\n",
    "X_pca['PC2'] = pc2\n",
    "X_pca['PC3'] = pc3\n",
    "X_pca['PC4'] = pc4\n",
    "X_pca['PC5'] = pc5\n",
    "X_pca.head()\n",
    "\n",
    "X_pca_mat = X_pca.copy()\n",
    "X_pca_mat = X_pca_mat.values"
   ]
  },
  {
   "cell_type": "code",
   "execution_count": 114,
   "metadata": {},
   "outputs": [
    {
     "data": {
      "text/plain": [
       "array([[ 1.90316827e-01,  5.07999142e-01, -1.95997605e-01,\n",
       "         1.35320802e-01,  1.23233076e+00],\n",
       "       [ 3.76927083e-01,  8.56213277e-01, -3.32363171e-01,\n",
       "        -4.68202034e-02, -3.76904115e-01],\n",
       "       [-1.63423463e-01,  7.26396734e-01, -3.45380292e-01,\n",
       "        -5.98820040e-01,  1.12982824e-01],\n",
       "       [-4.93872428e-01, -5.96920096e-01, -7.98500252e-01,\n",
       "        -1.64963931e+00,  1.03015939e+00],\n",
       "       [-2.69525066e-01,  2.33076852e-01, -3.08420996e-01,\n",
       "        -1.16791289e-01, -3.90516620e-01],\n",
       "       [ 2.12845743e-01,  8.62045917e-01,  7.37196279e-01,\n",
       "         6.14250968e-01, -1.16787472e-01],\n",
       "       [ 5.33344260e-01,  1.12166571e+00, -8.44516726e-01,\n",
       "        -1.50171003e-01,  1.08350504e-01],\n",
       "       [ 2.10569782e-03, -6.86634319e-01,  7.81535244e-01,\n",
       "         2.24733849e+00, -4.75832664e-01],\n",
       "       [-3.25566145e-01, -1.33216760e+00,  1.15602362e+00,\n",
       "         1.69097761e+00, -1.23955683e+00],\n",
       "       [ 7.53960349e-01,  4.59572761e-02,  4.42762513e-01,\n",
       "        -7.01450353e-01,  2.54826601e-01],\n",
       "       [ 2.60298080e-01, -3.02020311e-01,  1.94113289e-01,\n",
       "         8.81662024e-01, -1.68414873e-01],\n",
       "       [-6.73849697e-01, -4.76981882e-01,  3.17796226e-01,\n",
       "        -2.46629390e-01, -4.14180010e-01],\n",
       "       [ 1.12295105e+00,  1.09058270e+00, -7.59626573e-01,\n",
       "        -4.42333662e-01,  6.82351675e-01],\n",
       "       [ 1.91271816e-01,  7.60439909e-02,  7.22938860e-02,\n",
       "         2.74411438e-01, -4.61205359e-01],\n",
       "       [-1.33548511e-01,  3.80284801e-01, -3.88949129e-01,\n",
       "        -3.87656052e-01, -3.02424707e-01],\n",
       "       [-1.07829709e+00, -1.79905541e+00,  8.01835334e-01,\n",
       "         1.01193095e+00, -1.53495109e+00],\n",
       "       [-1.82268825e-01,  1.20669134e-01, -4.79368389e-01,\n",
       "        -9.13646154e-01,  2.45488229e-01],\n",
       "       [ 5.51976653e-01,  2.63056471e-01, -8.46842157e-01,\n",
       "        -7.60182815e-01,  1.15702850e+00],\n",
       "       [ 2.85209175e-02,  4.21822568e-01, -9.99219343e-01,\n",
       "        -6.61437779e-01, -3.84671929e-01],\n",
       "       [ 2.37646882e-01,  4.52909563e-01, -3.87921986e-01,\n",
       "        -8.15103813e-01,  4.04430119e-01],\n",
       "       [ 4.65082303e-01,  6.17691920e-01,  6.25398255e-01,\n",
       "         4.62890847e-01, -8.88621538e-01],\n",
       "       [ 6.47905594e-01, -1.70644353e-01,  3.62137468e-01,\n",
       "        -5.32693821e-02,  5.33757970e-01],\n",
       "       [ 9.88055816e-01,  8.26441664e-01,  7.99158644e-01,\n",
       "         8.48260287e-01,  3.16807868e-02],\n",
       "       [-7.93448691e-01, -7.04046261e-01,  1.09532900e+00,\n",
       "         5.14069103e-01, -5.47950893e-01],\n",
       "       [ 2.25637591e-01,  2.39678136e-01,  8.59975007e-03,\n",
       "        -3.41913339e-01, -3.00470414e-01],\n",
       "       [ 5.86600376e-01,  1.72716623e-01, -1.23786063e-01,\n",
       "        -3.61147427e-01,  1.24675137e+00],\n",
       "       [ 6.42559103e-02,  3.39170876e-01,  7.48147764e-01,\n",
       "         5.32777390e-01,  8.14273036e-01],\n",
       "       [ 2.32013866e-01,  6.37412390e-02, -5.67042744e-01,\n",
       "        -9.81955817e-01,  3.36182264e-01],\n",
       "       [ 9.49739655e-01,  1.93803779e-01, -3.70459565e-01,\n",
       "        -5.39357618e-01,  1.46957250e+00],\n",
       "       [-2.78155567e-02, -8.63266638e-01,  1.26386988e+00,\n",
       "         2.19037921e+00, -1.00075266e+00],\n",
       "       [ 1.20836742e-02,  7.42328318e-01, -1.11585785e+00,\n",
       "        -5.00431358e-01,  1.87813000e-01],\n",
       "       [ 1.78041777e+00,  9.02101745e-02, -7.63959019e-01,\n",
       "        -5.19516248e-01,  1.92423744e+00],\n",
       "       [ 3.08061739e-01, -3.86712735e-01, -7.80455790e-01,\n",
       "        -1.11325467e+00,  1.17947140e+00],\n",
       "       [ 9.27678846e-02,  3.71309364e-01,  5.28820697e-01,\n",
       "         2.37723337e-01, -4.64347625e-01],\n",
       "       [ 8.07604603e-01,  9.53637798e-01, -1.69088774e-01,\n",
       "        -2.03923717e-01,  2.92643205e-01],\n",
       "       [ 7.94911148e-01,  9.76292266e-01,  3.81551559e-01,\n",
       "         3.37800677e-01,  8.47562894e-02],\n",
       "       [ 2.18574458e-01,  6.42095158e-01, -1.10925101e+00,\n",
       "        -4.31748098e-01,  6.42200818e-01],\n",
       "       [-4.08823787e-01, -3.09258546e-01, -4.80353245e-02,\n",
       "        -6.99008293e-01,  7.55551987e-01],\n",
       "       [-8.36788182e-01, -6.65879879e-01, -7.68883353e-01,\n",
       "        -2.01639907e+00,  1.13602550e+00],\n",
       "       [ 1.71163898e-01,  4.72746174e-01,  9.31634292e-01,\n",
       "         4.15879358e-01, -8.45788533e-01],\n",
       "       [ 4.30575956e-01, -4.67847142e-01, -3.83920804e-01,\n",
       "        -1.16685627e+00,  1.18559021e+00],\n",
       "       [ 3.52395146e-01,  3.03137295e-01,  4.02379331e-01,\n",
       "         2.94544355e-01, -2.86567378e-01],\n",
       "       [-3.66965848e-01, -4.44357701e-01, -1.57218409e-01,\n",
       "         5.63862041e-01, -7.80556420e-01],\n",
       "       [-3.32368754e-01, -5.43633225e-01,  3.33613854e-01,\n",
       "        -1.40622719e-02, -8.35874776e-01],\n",
       "       [-5.10762437e-01, -1.76536399e+00,  1.21877031e+00,\n",
       "         2.12269472e+00, -1.03107274e+00],\n",
       "       [ 4.30220140e-01,  7.92525200e-01, -1.45788161e-01,\n",
       "        -6.65092725e-03,  5.30891238e-02],\n",
       "       [ 2.05615035e-01,  7.09725691e-01,  2.91770338e-01,\n",
       "         3.40297385e-02, -1.90699148e-01],\n",
       "       [ 2.90017588e-01,  1.01504060e+00, -2.67044771e-01,\n",
       "        -2.02833728e-01,  7.38827841e-01],\n",
       "       [ 3.10158791e-01,  8.31723474e-01, -2.31929116e-01,\n",
       "        -5.99057605e-02, -5.58974378e-02],\n",
       "       [-9.22143997e-01, -1.56367165e+00, -4.39166447e-03,\n",
       "        -1.14346630e+00,  4.88170868e-02],\n",
       "       [ 4.45556321e-01,  1.23691832e+00, -9.03473426e-01,\n",
       "        -2.36118213e-01,  1.78241296e+00],\n",
       "       [-5.22218256e-01, -4.78985125e-01, -1.56407379e-01,\n",
       "        -6.48665845e-01, -5.95458745e-01],\n",
       "       [-3.38202371e-02,  6.75867371e-02, -6.30457634e-01,\n",
       "        -8.94963255e-01,  4.95322445e-01],\n",
       "       [-2.45783628e-01, -9.27627684e-01,  7.46564451e-01,\n",
       "         1.67842683e+00, -6.38557478e-01],\n",
       "       [-6.21879277e-02, -5.93935189e-01,  1.44462453e+00,\n",
       "         2.02478252e+00, -8.76398798e-01],\n",
       "       [ 1.78821198e-01, -2.82329722e-01,  2.19737690e-02,\n",
       "        -1.02730437e+00,  1.21416058e+00],\n",
       "       [-1.93404405e-01,  4.69472048e-01, -5.24896330e-01,\n",
       "        -4.93154084e-01,  9.71863238e-01],\n",
       "       [ 2.63198353e-01,  5.17557521e-01,  4.07317666e-01,\n",
       "         1.49157762e-01, -5.62294723e-01],\n",
       "       [-5.92306351e-03, -9.76608484e-01,  1.40886673e+00,\n",
       "         1.74907358e+00, -1.09630934e+00],\n",
       "       [ 1.77312861e-01,  4.17790130e-01, -6.24885791e-01,\n",
       "        -5.10352212e-01,  7.12899690e-01],\n",
       "       [ 3.35261056e-01,  9.27329816e-02,  9.58514961e-01,\n",
       "         1.44176085e+00, -7.55446365e-01],\n",
       "       [ 3.37767131e-01,  7.80278320e-01, -4.39757443e-01,\n",
       "         1.46951098e-01,  2.57954720e-01],\n",
       "       [ 2.04274013e-01,  7.15642451e-01, -4.48553801e-02,\n",
       "        -1.31125538e-01,  3.80203432e-01],\n",
       "       [ 2.67849002e-01,  1.22168935e-01, -6.93993076e-01,\n",
       "        -7.28908818e-01,  1.01668736e+00],\n",
       "       [ 1.05854334e+00,  1.44692752e-01,  1.13644120e-01,\n",
       "        -8.94150629e-03,  1.01156084e+00],\n",
       "       [-8.65691354e-02,  1.16915627e-01, -9.52517814e-01,\n",
       "        -7.27031830e-01,  3.75118875e-02],\n",
       "       [ 3.16382631e+00, -7.47919332e-01, -9.29563458e-01,\n",
       "        -1.74811366e-01,  9.59790322e-01],\n",
       "       [-3.92779587e-01, -6.65831392e-01,  3.73886032e-02,\n",
       "        -6.80253017e-01, -9.03501779e-01],\n",
       "       [-7.32565002e-01, -1.06223421e+00,  8.82591450e-01,\n",
       "         1.21882172e+00, -9.40805162e-01],\n",
       "       [ 1.07687417e+00,  7.79949739e-01, -6.11876525e-01,\n",
       "        -4.76154696e-01,  7.42506931e-01],\n",
       "       [ 6.09746444e-01,  1.03057616e+00, -6.97910514e-01,\n",
       "        -4.97808742e-01,  8.06238836e-01],\n",
       "       [ 5.91901589e-01,  9.38038289e-01,  1.65633323e-01,\n",
       "         6.86322146e-02,  7.15798041e-02],\n",
       "       [-4.85849930e-01,  2.67567265e-01,  6.92109579e-01,\n",
       "        -1.17641699e-01,  5.34585067e-01],\n",
       "       [-1.52943435e+00, -2.49301333e+00,  5.57507949e-01,\n",
       "         4.06859850e-01, -1.52169576e+00],\n",
       "       [-5.94047615e-01, -1.95813980e-01,  4.81452004e-01,\n",
       "         9.30074380e-01, -2.30688358e-01],\n",
       "       [ 2.22980017e-01, -2.42132957e-01,  9.48094918e-01,\n",
       "         1.64332296e+00, -7.56403758e-01],\n",
       "       [ 7.21675111e-02,  8.37658212e-01, -7.25221414e-01,\n",
       "        -3.05012772e-01, -4.00797147e-02],\n",
       "       [ 4.93978426e-01, -3.38289355e-01,  9.66330394e-01,\n",
       "         2.11172998e+00, -5.22699952e-01],\n",
       "       [-9.76524404e-01,  2.98446499e-01, -1.41046106e-01,\n",
       "        -3.81085813e-01, -4.85748685e-01],\n",
       "       [ 4.17897600e-02,  3.83647153e-01,  8.68467394e-04,\n",
       "        -3.58642894e-01,  5.48864755e-01],\n",
       "       [ 5.08223177e-01,  6.67139185e-01, -5.27053754e-01,\n",
       "        -4.00734343e-01,  1.30392820e+00],\n",
       "       [ 2.57827908e-01,  4.27608452e-01, -7.94270091e-02,\n",
       "         6.73423186e-01, -1.25982845e-01],\n",
       "       [-8.94250584e-01, -8.38887423e-01,  8.14555808e-01,\n",
       "         5.11119424e-01, -3.85968427e-01],\n",
       "       [-5.62208425e-01,  2.62207173e-01, -8.68460049e-01,\n",
       "        -7.44953684e-01, -1.53019782e-01],\n",
       "       [ 7.00246892e-01,  2.95396820e-01, -8.58599496e-01,\n",
       "        -7.55027005e-01,  4.21341910e-01],\n",
       "       [ 2.50699072e-01,  8.52360987e-03, -9.27429483e-03,\n",
       "        -2.38573647e-01, -2.66591744e-01],\n",
       "       [-2.38149526e-02,  5.58331139e-01, -2.93925412e-01,\n",
       "         6.26420934e-02, -8.05816356e-01],\n",
       "       [ 8.47949254e-01, -5.74239283e-01, -2.58180931e-01,\n",
       "         9.89198719e-02, -2.94461687e-02],\n",
       "       [-2.93753564e-01,  1.36064176e-01, -2.20912916e-01,\n",
       "         4.52745403e-01, -4.39914716e-01],\n",
       "       [-5.46442049e-01, -5.17324424e-02, -2.26328109e-03,\n",
       "        -7.46624152e-01, -1.75698149e-01],\n",
       "       [-1.86283038e-01, -2.60965247e-01,  1.62955303e-02,\n",
       "        -3.76241289e-01, -5.50655611e-01],\n",
       "       [-3.54254484e+00, -6.01684596e+00,  2.65381712e-01,\n",
       "         1.10558481e+00, -2.87405593e+00],\n",
       "       [ 2.87047777e-01,  5.48448887e-01, -2.12454194e-01,\n",
       "        -1.68269584e-01, -4.01320849e-01],\n",
       "       [ 1.77242261e-01,  6.47232696e-01, -8.72064746e-01,\n",
       "        -5.81176067e-01,  1.35675227e+00],\n",
       "       [ 5.46081260e-01,  2.50954552e-01, -1.08730105e-01,\n",
       "        -2.77512939e-01,  1.55194476e+00],\n",
       "       [-8.29287755e-01, -4.65824728e-01, -3.97060746e-01,\n",
       "        -1.30134726e+00, -3.83987034e-01],\n",
       "       [-5.77891652e-01, -3.30218725e-01, -2.65086149e-01,\n",
       "        -1.15494109e+00, -5.75041548e-01],\n",
       "       [ 3.52150581e-01,  3.42498892e-02, -6.35250636e-01,\n",
       "        -7.38058828e-01,  1.22053357e+00],\n",
       "       [-2.44292536e+00, -2.55233863e+00, -5.45218533e-01,\n",
       "        -1.78190137e+00, -2.80806392e+00],\n",
       "       [-5.67564407e-01, -8.26708989e-02, -1.02623433e+00,\n",
       "        -1.23997790e+00,  2.32391069e-02],\n",
       "       [ 1.19508314e-01,  1.82468387e-01, -3.57181014e-01,\n",
       "        -4.00030410e-01, -3.63979600e-01],\n",
       "       [-1.01859830e-01,  2.39062929e-01,  6.52087482e-01,\n",
       "         8.61809812e-01, -7.08579737e-01],\n",
       "       [ 2.54047532e-01,  3.50981560e-01,  2.47556266e-01,\n",
       "         2.68684466e-01, -1.11345876e+00],\n",
       "       [-5.01997010e-01,  5.22201207e-01, -4.86239052e-01,\n",
       "        -5.25516650e-01, -7.33716447e-02],\n",
       "       [-2.77553257e-02,  4.82302550e-01,  1.53113778e-01,\n",
       "         2.20029937e-01, -7.71877983e-01],\n",
       "       [ 3.80849662e-01,  6.85642241e-01, -5.39374591e-01,\n",
       "        -4.66247962e-01,  1.94402683e-01],\n",
       "       [ 3.27076976e-01,  4.63115290e-02, -5.92867386e-01,\n",
       "        -6.86942614e-01,  1.43978744e+00],\n",
       "       [ 1.79509398e+00,  1.36955812e+00, -7.97830140e-01,\n",
       "        -2.83593683e-01,  1.32444201e+00],\n",
       "       [ 2.62559972e-01, -1.96180200e-01, -2.20095845e-01,\n",
       "        -4.56770919e-01,  7.12489286e-01],\n",
       "       [ 7.41745638e-01,  1.17635350e+00, -6.85341203e-01,\n",
       "        -1.25061160e-02,  3.78138316e-01],\n",
       "       [-9.02737909e-01, -1.97295781e+00,  1.26288981e+00,\n",
       "         1.45868880e+00, -1.55788267e+00],\n",
       "       [-1.09328226e-01, -3.31309913e-01,  1.05962964e+00,\n",
       "         1.45909447e+00, -6.49713278e-01],\n",
       "       [-3.56590756e-01,  1.17216630e-01, -7.84965645e-01,\n",
       "        -6.46754433e-01,  1.41987623e+00],\n",
       "       [-1.11404221e+00,  5.53606647e-01, -2.77853281e-01,\n",
       "        -4.31781668e-01, -2.19036523e-01],\n",
       "       [-6.66840469e-01, -2.47642076e+00,  1.06536697e+00,\n",
       "         3.33488984e+00, -7.62529036e-01],\n",
       "       [-1.01407366e+00, -1.88936412e-01,  1.39667298e-01,\n",
       "        -4.17127050e-01, -6.14307982e-02],\n",
       "       [ 1.02057183e+00,  8.45935586e-01, -1.00250096e+00,\n",
       "        -6.31968148e-01,  1.07393189e+00],\n",
       "       [-8.48443191e-01, -3.30734939e-01, -7.75345067e-02,\n",
       "        -6.72568158e-01, -9.91486482e-01],\n",
       "       [-1.98922201e-01,  2.24562019e-01, -3.03665386e-01,\n",
       "        -8.63444172e-01, -3.64397073e-02],\n",
       "       [ 2.92683630e-01,  9.00255614e-01, -1.84098004e-01,\n",
       "        -2.92565566e-01,  2.34621936e-01],\n",
       "       [ 2.79478267e-01,  6.98388417e-01, -6.64224442e-01,\n",
       "        -7.02396691e-01,  8.91568392e-01],\n",
       "       [ 3.11634339e-01,  3.04834983e-01,  3.31652715e-01,\n",
       "         2.08639915e-01, -3.97579571e-01],\n",
       "       [ 2.80650442e-01,  3.80333396e-02,  1.07525939e+00,\n",
       "         1.19246778e+00, -9.30622736e-01],\n",
       "       [-1.26996100e+00, -1.76923162e+00,  1.61682750e+00,\n",
       "         2.18539444e+00, -6.99429902e-01],\n",
       "       [ 4.85545742e-01,  6.63963586e-01, -1.09657978e-01,\n",
       "        -8.65576087e-03,  3.66601229e-02],\n",
       "       [ 6.75126698e-01,  6.97607132e-01,  2.53651438e-01,\n",
       "         2.04974299e-01,  4.85817017e-01],\n",
       "       [ 5.73512210e-01,  5.87811971e-01,  6.70375906e-01,\n",
       "         3.77095792e-01,  6.35358316e-01],\n",
       "       [-6.21686399e-01,  7.20365257e-01, -3.54854797e-01,\n",
       "        -1.67709303e-01,  5.92376871e-01],\n",
       "       [-7.37929909e-01,  5.96007997e-02,  4.86752821e-01,\n",
       "         1.20523777e-01, -6.44098857e-02],\n",
       "       [ 8.41143762e-02,  4.98109701e-01, -4.27448096e-01,\n",
       "        -4.33068734e-01,  1.13175150e+00],\n",
       "       [ 4.16364066e-01,  5.51583925e-01,  6.61187052e-01,\n",
       "         3.94641969e-01, -7.01966765e-01],\n",
       "       [-1.14026799e+00, -7.68081265e-01, -1.30340510e+00,\n",
       "        -1.46931005e+00, -6.72793715e-01],\n",
       "       [ 1.27101609e+00, -3.90199665e-01,  9.76005048e-01,\n",
       "         2.98626502e-01, -7.95422346e-02],\n",
       "       [-3.58994496e+00, -4.17545841e+00, -7.22866564e-01,\n",
       "        -2.00074086e+00, -3.20158700e+00],\n",
       "       [-4.71703476e-01, -7.51813036e-01,  3.05387629e-01,\n",
       "        -2.53223435e-01, -1.10875525e+00],\n",
       "       [-4.34585719e-01, -6.93404567e-01,  5.91199395e-01,\n",
       "         2.95843630e-01, -1.11826818e+00],\n",
       "       [-7.25040990e-01,  5.72124830e-02, -2.46527939e-01,\n",
       "        -3.79454266e-01,  4.11026516e-01],\n",
       "       [ 1.43113538e+00,  3.61459805e-02,  7.96816998e-01,\n",
       "         3.51910101e-01,  1.03857820e+00],\n",
       "       [-4.69410385e-02, -1.41949547e-01,  2.71322187e-01,\n",
       "         3.29238603e-01, -7.83168276e-01],\n",
       "       [ 3.16088748e-01, -5.88921141e-02,  9.24589842e-01,\n",
       "         1.42125935e+00, -7.60799002e-01],\n",
       "       [ 1.66133925e-01,  1.39338519e+00, -7.37532640e-01,\n",
       "        -2.75783878e-01,  4.27417106e-01],\n",
       "       [ 2.49869034e-01,  8.08465686e-01, -9.22709619e-01,\n",
       "        -1.25203788e-01,  1.09440369e-01],\n",
       "       [ 2.31964070e-01,  6.31484298e-01,  5.02742817e-02,\n",
       "        -2.81830948e-01,  8.56658562e-01],\n",
       "       [ 1.64522881e-01,  4.20523287e-03,  3.26793111e-01,\n",
       "        -4.07986341e-01,  1.87589067e-01],\n",
       "       [-5.12327588e-01, -1.32794384e+00,  8.86863365e-01,\n",
       "         1.79371296e+00, -8.69980452e-01],\n",
       "       [-8.09204909e-01, -2.66121453e+00,  1.20724966e+00,\n",
       "         2.48811064e+00, -1.50011092e+00],\n",
       "       [ 2.01700227e-02,  9.67088835e-01, -8.94389943e-01,\n",
       "        -5.17489190e-02,  3.83445526e-02],\n",
       "       [ 2.24318598e-01,  5.68335902e-01, -1.36889043e-01,\n",
       "        -2.40542215e-01,  1.52814326e+00],\n",
       "       [-1.22411736e-01,  1.19193909e-01, -7.24364448e-01,\n",
       "        -1.16555156e+00, -3.74620796e-01],\n",
       "       [-8.39423722e-01,  9.80467358e-01,  2.83586880e-01,\n",
       "         5.31873229e-01,  4.39492863e-01],\n",
       "       [ 2.86983501e-01, -1.77098259e-01, -2.31505702e-01,\n",
       "        -6.03512039e-01,  7.32953187e-01],\n",
       "       [-4.24872132e-01,  1.16869610e+00, -9.55730188e-01,\n",
       "         1.48780122e-01,  6.44524446e-01],\n",
       "       [-1.15490959e-01,  3.62297067e-01, -3.09194248e-01,\n",
       "        -6.30546863e-01, -3.97392773e-01],\n",
       "       [ 3.69391348e-01,  8.06191655e-01,  1.99272666e-01,\n",
       "         3.79753837e-01, -1.63105166e-01],\n",
       "       [ 3.45423621e-01, -4.86877744e-01, -7.16138840e-01,\n",
       "        -1.79576821e+00,  5.37223859e-01],\n",
       "       [ 1.16858484e-01,  3.50082678e-01,  5.30068639e-01,\n",
       "         9.64944228e-02,  1.44410472e+00],\n",
       "       [ 3.31985502e-01,  4.07384116e-01,  8.04193200e-02,\n",
       "        -3.30083982e-01, -2.68999627e-01],\n",
       "       [-1.13175057e+00, -1.05921320e+00,  8.76848188e-02,\n",
       "         1.43207094e-01, -7.99732370e-01],\n",
       "       [-3.34329553e-02, -4.60895366e-01,  9.22056154e-01,\n",
       "         1.69837031e+00, -6.39933564e-01],\n",
       "       [ 3.23317009e-01, -9.08348770e-01,  3.10721652e+00,\n",
       "         3.43819616e+00, -1.31529518e+00],\n",
       "       [ 3.98797461e-01,  5.63450036e-01,  6.16690667e-01,\n",
       "         4.87277982e-01, -1.01504863e-01],\n",
       "       [ 6.55150900e-01,  7.20642705e-01, -1.45719837e-01,\n",
       "        -4.16476695e-01,  3.88861628e-01],\n",
       "       [ 5.64335702e-02,  2.28007057e-01, -4.88886965e-01,\n",
       "        -7.06095963e-01,  1.02348813e+00],\n",
       "       [-3.87718836e-01,  8.00520367e-01, -2.31585537e-02,\n",
       "         1.71484560e-01, -1.09537230e-01],\n",
       "       [-4.48277673e-01, -1.10745263e-01, -5.66305666e-01,\n",
       "        -1.14012981e+00, -7.93971894e-01],\n",
       "       [-3.64503846e-01,  6.53552201e-01, -3.55005405e-01,\n",
       "        -5.15443574e-01,  6.88347311e-01],\n",
       "       [ 3.62146072e-01, -1.52890218e-02,  3.33722061e-02,\n",
       "        -6.07127262e-01,  1.80010160e+00]])"
      ]
     },
     "execution_count": 114,
     "metadata": {},
     "output_type": "execute_result"
    }
   ],
   "source": [
    "X_pca_mat"
   ]
  },
  {
   "cell_type": "code",
   "execution_count": 115,
   "metadata": {},
   "outputs": [
    {
     "data": {
      "text/plain": [
       "<AxesSubplot:xlabel='PC1', ylabel='PC2'>"
      ]
     },
     "execution_count": 115,
     "metadata": {},
     "output_type": "execute_result"
    },
    {
     "data": {
      "image/png": "[encoded data removed]",
      "text/plain": [
       "<Figure size 432x288 with 1 Axes>"
      ]
     },
     "metadata": {
      "needs_background": "light"
     },
     "output_type": "display_data"
    }
   ],
   "source": [
    "sns.scatterplot(x = X_pca['PC1'], y = X_pca['PC2'], data = X_pca)    "
   ]
  },
  {
   "cell_type": "code",
   "execution_count": 157,
   "metadata": {},
   "outputs": [
    {
     "data": {
      "image/png": "[encoded data removed]",
      "text/plain": [
       "<Figure size 432x288 with 1 Axes>"
      ]
     },
     "metadata": {
      "needs_background": "light"
     },
     "output_type": "display_data"
    }
   ],
   "source": [
    "distortions = []\n",
    "K = range(1,10)\n",
    "for k in K:\n",
    "    kmeans = KMeans(n_clusters=k)\n",
    "    kmeans.fit(X_pca)\n",
    "    distortions.append(kmeans.inertia_)\n",
    "\n",
    "plt.plot(K, distortions, 'bx-')\n",
    "plt.xlabel('K')\n",
    "plt.ylabel('Distortion')\n",
    "plt.show()"
   ]
  },
  {
   "cell_type": "code",
   "execution_count": 159,
   "metadata": {},
   "outputs": [
    {
     "data": {
      "text/plain": [
       "array([0, 3, 0, 0, 3, 3, 0, 1, 1, 0, 3, 3, 0, 3, 3, 1, 0, 0, 3, 0, 3, 0,\n",
       "       3, 1, 3, 0, 3, 0, 0, 1, 0, 0, 0, 3, 0, 3, 0, 0, 0, 3, 0, 3, 3, 3,\n",
       "       1, 3, 3, 0, 3, 3, 0, 3, 0, 1, 1, 0, 0, 3, 1, 0, 1, 0, 0, 0, 0, 0,\n",
       "       0, 3, 1, 0, 0, 3, 3, 1, 3, 1, 0, 1, 3, 0, 0, 3, 1, 3, 0, 3, 3, 3,\n",
       "       3, 3, 3, 2, 3, 0, 0, 3, 3, 0, 2, 0, 3, 3, 3, 3, 3, 0, 0, 0, 0, 0,\n",
       "       1, 1, 0, 3, 1, 3, 0, 3, 3, 0, 0, 3, 1, 1, 3, 0, 0, 0, 3, 0, 3, 3,\n",
       "       3, 2, 3, 3, 3, 0, 3, 1, 0, 0, 0, 3, 1, 1, 0, 0, 3, 3, 0, 0, 3, 3,\n",
       "       0, 0, 3, 3, 1, 1, 3, 0, 0, 3, 3, 0, 0])"
      ]
     },
     "execution_count": 159,
     "metadata": {},
     "output_type": "execute_result"
    }
   ],
   "source": [
    "kmeans = KMeans(n_clusters = 4, max_iter = 1000).fit(X_pca)\n",
    "prediction = kmeans.predict(X_pca)\n",
    "prediction"
   ]
  },
  {
   "cell_type": "code",
   "execution_count": 160,
   "metadata": {},
   "outputs": [
    {
     "data": {
      "text/plain": [
       "0.2712460480350674"
      ]
     },
     "execution_count": 160,
     "metadata": {},
     "output_type": "execute_result"
    }
   ],
   "source": [
    "silhouette_score(X_pca, kmeans.labels_, metric='euclidean')"
   ]
  },
  {
   "cell_type": "code",
   "execution_count": 161,
   "metadata": {},
   "outputs": [],
   "source": [
    "class Kmeans:\n",
    "    def __init__(self, k = 4, epochs = 1000):\n",
    "        self.k = k\n",
    "        self.epochs = epochs\n",
    "    \n",
    "    def fit(self, X):\n",
    "        num_feat = X.shape[1]\n",
    "        centres = np.zeros(self.k * num_feat).reshape(self.k, num_feat)\n",
    "        categories = np.zeros(num_feat * self.k * len(X)).reshape(self.k, len(X), num_feat)\n",
    "        new_centres = np.zeros(self.k*num_feat).reshape(self.k, num_feat)\n",
    "                \n",
    "        for i in range(self.k):\n",
    "            var = random.randint(0, len(X))\n",
    "            centres[i] = X[var]\n",
    "        \n",
    "        print(centres)\n",
    "        result = np.zeros(len(X))\n",
    "        epoch = 0\n",
    "        \n",
    "        while(epoch < self.epochs):\n",
    "            sum = np.zeros(self.k).astype(int)\n",
    "            for x in range(len(X)):\n",
    "                \n",
    "                distances = np.zeros(self.k)\n",
    "                for i in range(len(centres)):\n",
    "                    distances[i] = (np.sum((X[x] - centres[i])**2))\n",
    "                for i in range(len(centres)):\n",
    "                    if distances[i] == np.min(distances):\n",
    "                        result[x] = i\n",
    "                        categories[i, sum[i]] = X[x]\n",
    "                        sum[i] += 1\n",
    "\n",
    "            for i in range(self.k):\n",
    "                for j in range(num_feat):\n",
    "                    new_centres[i, j] = np.sum(categories[i, j]/sum[i])\n",
    "            centres = new_centres\n",
    "            \n",
    "            epoch += 1\n",
    "        print(result)\n",
    "        print(silhouette_score(X, result, metric='euclidean'))\n"
   ]
  },
  {
   "cell_type": "code",
   "execution_count": 164,
   "metadata": {},
   "outputs": [
    {
     "name": "stdout",
     "output_type": "stream",
     "text": [
      "[[-0.9765244   0.2984465  -0.14104611 -0.38108581 -0.48574869]\n",
      " [-0.44827767 -0.11074526 -0.56630567 -1.14012981 -0.79397189]\n",
      " [ 0.43022014  0.7925252  -0.14578816 -0.00665093  0.05308912]\n",
      " [ 0.20427401  0.71564245 -0.04485538 -0.13112554  0.38020343]]\n"
     ]
    },
    {
     "name": "stderr",
     "output_type": "stream",
     "text": [
      "<ipython-input-161-2c65d19911bf>:35: RuntimeWarning: divide by zero encountered in true_divide\n",
      "  new_centres[i, j] = np.sum(categories[i, j]/sum[i])\n",
      "C:\\Users\\aadit\\anaconda3\\lib\\site-packages\\numpy\\core\\fromnumeric.py:87: RuntimeWarning: invalid value encountered in reduce\n",
      "  return ufunc.reduce(obj, axis, dtype, out, **passkwargs)\n"
     ]
    },
    {
     "name": "stdout",
     "output_type": "stream",
     "text": [
      "[0. 0. 0. 2. 2. 1. 0. 1. 1. 0. 1. 2. 0. 1. 2. 2. 2. 0. 2. 0. 1. 1. 1. 1.\n",
      " 0. 0. 1. 2. 0. 1. 0. 0. 0. 1. 0. 1. 0. 2. 2. 1. 0. 1. 2. 2. 1. 0. 0. 0.\n",
      " 0. 2. 0. 2. 2. 1. 1. 0. 0. 1. 1. 0. 1. 0. 0. 0. 1. 2. 1. 2. 1. 0. 0. 0.\n",
      " 1. 2. 1. 1. 0. 1. 2. 0. 0. 1. 2. 2. 0. 0. 2. 1. 2. 2. 2. 2. 0. 0. 0. 2.\n",
      " 2. 0. 2. 2. 2. 1. 1. 2. 2. 0. 0. 0. 0. 0. 1. 1. 0. 2. 1. 2. 0. 2. 2. 0.\n",
      " 0. 1. 1. 1. 0. 1. 1. 0. 2. 0. 1. 2. 1. 2. 2. 2. 2. 1. 1. 1. 0. 0. 0. 0.\n",
      " 1. 1. 0. 0. 2. 0. 0. 0. 2. 1. 2. 1. 0. 2. 1. 1. 1. 0. 0. 0. 2. 0. 0.]\n",
      "0.21783015187654256\n"
     ]
    }
   ],
   "source": [
    "k = Kmeans()\n",
    "k.fit(X_pca_mat)"
   ]
  },
  {
   "cell_type": "code",
   "execution_count": null,
   "metadata": {},
   "outputs": [],
   "source": []
  }
 ],
 "metadata": {
  "kernelspec": {
   "display_name": "Python 3",
   "language": "python",
   "name": "python3"
  },
  "language_info": {
   "codemirror_mode": {
    "name": "ipython",
    "version": 3
   },
   "file_extension": ".py",
   "mimetype": "text/x-python",
   "name": "python",
   "nbconvert_exporter": "python",
   "pygments_lexer": "ipython3",
   "version": "3.8.5"
  }
 },
 "nbformat": 4,
 "nbformat_minor": 4
}
